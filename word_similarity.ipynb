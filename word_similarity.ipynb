{
 "cells": [
  {
   "cell_type": "code",
   "execution_count": 1,
   "metadata": {},
   "outputs": [],
   "source": [
    "# -*-coding: utf-8 -*-\n",
    "# 先运行 word_seg进行中文分词，然后再进行word_similarity计算\n",
    "# 将Word转换成Vec，然后计算相似度 \n",
    "from gensim.models import word2vec\n",
    "import multiprocessing\n"
   ]
  },
  {
   "cell_type": "code",
   "execution_count": 2,
   "metadata": {},
   "outputs": [],
   "source": [
    "# 如果目录中有多个文件，可以使用PathLineSentences\n",
    "segment_folder = './three_kingdoms/segment'\n",
    "sentences = word2vec.PathLineSentences(segment_folder)\n"
   ]
  },
  {
   "cell_type": "code",
   "execution_count": 5,
   "metadata": {},
   "outputs": [],
   "source": [
    "# 设置模型参数，进行训练\n",
    "model = word2vec.Word2Vec(sentences, size=100, window=3, min_count=1)"
   ]
  },
  {
   "cell_type": "code",
   "execution_count": 6,
   "metadata": {},
   "outputs": [
    {
     "name": "stdout",
     "output_type": "stream",
     "text": [
      "[('大叫', 0.9972234964370728), ('丞相', 0.9961792230606079), ('朕', 0.9941283464431763), ('某', 0.9938284754753113), ('主公', 0.9929636716842651), ('臣', 0.9928202629089355), ('泰', 0.9923505783081055), ('书略', 0.9921560883522034), ('卿', 0.9918366074562073), ('商议', 0.9918055534362793)]\n"
     ]
    }
   ],
   "source": [
    "print(model.wv.most_similar(positive=['曹操', '刘备'], negative=['张飞']))"
   ]
  },
  {
   "cell_type": "code",
   "execution_count": 7,
   "metadata": {},
   "outputs": [],
   "source": [
    "# 设置模型参数，进行训练   超参数调整对比\n",
    "model2 = word2vec.Word2Vec(sentences, size=128, window=5, min_count=5, workers=multiprocessing.cpu_count())\n"
   ]
  },
  {
   "cell_type": "code",
   "execution_count": 8,
   "metadata": {},
   "outputs": [
    {
     "name": "stdout",
     "output_type": "stream",
     "text": [
      "[('吾', 0.986028254032135), ('孔明笑', 0.9853949546813965), ('丞相', 0.9845963716506958), ('此', 0.984209418296814), ('安知', 0.9823278188705444), ('朕', 0.9806123971939087), ('一人出', 0.9783740043640137), ('问', 0.9772417545318604), ('何人', 0.9762214422225952), ('何故', 0.975749135017395)]\n"
     ]
    }
   ],
   "source": [
    "print(model2.wv.most_similar(positive=['曹操', '刘备'], negative=['张飞']))"
   ]
  },
  {
   "cell_type": "code",
   "execution_count": null,
   "metadata": {},
   "outputs": [],
   "source": []
  }
 ],
 "metadata": {
  "kernelspec": {
   "display_name": "Python 3",
   "language": "python",
   "name": "python3"
  },
  "language_info": {
   "codemirror_mode": {
    "name": "ipython",
    "version": 3
   },
   "file_extension": ".py",
   "mimetype": "text/x-python",
   "name": "python",
   "nbconvert_exporter": "python",
   "pygments_lexer": "ipython3",
   "version": "3.7.4"
  }
 },
 "nbformat": 4,
 "nbformat_minor": 2
}
